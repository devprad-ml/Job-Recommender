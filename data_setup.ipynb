{
 "cells": [
  {
   "cell_type": "code",
   "execution_count": 5,
   "metadata": {},
   "outputs": [],
   "source": [
    "# installing dependencies and libraries\n",
    "import pandas as pd\n",
    "import numpy as np\n",
    "import re\n",
    "import pandas as pd\n",
    "from sklearn.feature_extraction.text import TfidfVectorizer\n",
    "from sklearn.preprocessing import LabelEncoder\n",
    "from sklearn.linear_model import LogisticRegression\n",
    "from sklearn.model_selection import train_test_split\n",
    "\n",
    "\n",
    "# loading the dataset\n",
    "\n",
    "#data = pd.read_csv('data job posts.csv')\n"
   ]
  },
  {
   "cell_type": "code",
   "execution_count": null,
   "metadata": {},
   "outputs": [],
   "source": [
    "# dropping unnecessary columns as this is just a project to demonstrate frameworks and libraries I know\n",
    "\n",
    "data = data.drop(columns=['AnnouncementCode', 'StartDate', 'OpeningDate', 'Deadline', 'Year', 'Month', 'Term', 'Eligibility','Audience','Duration', 'Attach','Notes','AboutC'], \n",
    "             axis=1, errors='ignore')\n",
    "\n",
    "data = data.drop_duplicates()\n",
    "\n",
    "data = data.dropna(subset=['JobDescription','JobRequirment','Salary'])\n",
    "\n",
    "data.count()"
   ]
  },
  {
   "cell_type": "code",
   "execution_count": null,
   "metadata": {},
   "outputs": [],
   "source": [
    "data.sample()"
   ]
  },
  {
   "cell_type": "code",
   "execution_count": null,
   "metadata": {},
   "outputs": [],
   "source": [
    "# cleaning text data (removing HTML tags, Extra space, etc.)\n",
    "def clean_text(text):\n",
    "    if pd.isna(text):\n",
    "        return \"\"\n",
    "    text = str(text).lower()\n",
    "    text = re.sub(r'<[^>]+>', '', text)           # remove HTML tags\n",
    "    text = re.sub(r'\\s+', ' ', text)              # remove extra whitespace\n",
    "    text = re.sub(r'[^\\w\\s]', '', text)           # remove punctuation\n",
    "    return text.strip()\n",
    "\n",
    "text_columns = ['jobpost', 'JobDescription', 'ApplicationP', 'JobRequirment', 'RequiredQual']\n",
    "for col in text_columns:\n",
    "    if col in data.columns:\n",
    "        data[col] = data[col].apply(clean_text)\n",
    "\n",
    "# Drop duplicates\n",
    "data = data.drop_duplicates(subset=['Title', 'JobDescription'])\n",
    "\n",
    "# Reset index\n",
    "data = data.reset_index(drop=True)\n",
    "\n",
    "# Preview cleaned data\n",
    "print(data.head())\n",
    "print(\"\\nRemaining columns:\", data.columns.tolist())\n"
   ]
  },
  {
   "cell_type": "code",
   "execution_count": 4,
   "metadata": {},
   "outputs": [],
   "source": [
    "# save the data to load into the streamlit app\n",
    "data.to_csv('jobs.csv', index=False)\n",
    "\n",
    "\n"
   ]
  },
  {
   "cell_type": "code",
   "execution_count": 8,
   "metadata": {},
   "outputs": [],
   "source": []
  },
  {
   "cell_type": "code",
   "execution_count": null,
   "metadata": {},
   "outputs": [],
   "source": []
  }
 ],
 "metadata": {
  "kernelspec": {
   "display_name": "base",
   "language": "python",
   "name": "python3"
  },
  "language_info": {
   "codemirror_mode": {
    "name": "ipython",
    "version": 3
   },
   "file_extension": ".py",
   "mimetype": "text/x-python",
   "name": "python",
   "nbconvert_exporter": "python",
   "pygments_lexer": "ipython3",
   "version": "3.10.16"
  }
 },
 "nbformat": 4,
 "nbformat_minor": 2
}
