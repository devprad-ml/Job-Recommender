{
 "cells": [
  {
   "cell_type": "code",
   "execution_count": 24,
   "metadata": {},
   "outputs": [],
   "source": [
    "# installing dependencies and libraries\n",
    "import pandas as pd\n",
    "import numpy as np\n",
    "import re\n",
    "\n",
    "\n",
    "# loading the dataset\n",
    "\n",
    "data = pd.read_csv('data job posts.csv')\n"
   ]
  },
  {
   "cell_type": "code",
   "execution_count": 31,
   "metadata": {},
   "outputs": [
    {
     "data": {
      "text/plain": [
       "jobpost           7177\n",
       "date              7177\n",
       "Title             7170\n",
       "Company           7177\n",
       "Location          7177\n",
       "JobDescription    7177\n",
       "JobRequirment     7177\n",
       "Salary            7177\n",
       "ApplicationP      7177\n",
       "IT                7177\n",
       "dtype: int64"
      ]
     },
     "execution_count": 31,
     "metadata": {},
     "output_type": "execute_result"
    }
   ],
   "source": [
    "# dropping unnecessary columns as this is just a project to demonstrate frameworks and libraries I know\n",
    "\n",
    "data = data.drop(columns=['AnnouncementCode', 'StartDate', 'RequiredQual', 'OpeningDate', 'Deadline', 'Year', 'Month', 'Term', 'Eligibility','Audience','Duration', 'Attach','Notes','AboutC'], \n",
    "             axis=1, errors='ignore')\n",
    "\n",
    "data = data.drop_duplicates()\n",
    "\n",
    "data = data.dropna(subset=['JobDescription','JobRequirment','Salary'])\n",
    "\n",
    "data.count()"
   ]
  },
  {
   "cell_type": "code",
   "execution_count": null,
   "metadata": {},
   "outputs": [],
   "source": [
    "# cleaning text data (removing HTML tags, Extra space, etc.)\n",
    "def clean_text(text):\n",
    "    if pd.isna(text):\n",
    "        return \"\"\n",
    "    text = str(text).lower()\n",
    "    text = re.sub(r'<[^>]+>', '', text)           # remove HTML tags\n",
    "    text = re.sub(r'\\s+', ' ', text)              # remove extra whitespace\n",
    "    text = re.sub(r'[^\\w\\s]', '', text)           # remove punctuation\n",
    "    return text.strip()\n",
    "\n",
    "text_columns = ['job_title', 'job_description', 'job_category', 'company_name', 'location']\n",
    "for col in text_columns:\n",
    "    if col in df.columns:\n",
    "        df[col] = df[col].apply(clean_text)\n",
    "\n",
    "# 4. Optionally: Drop duplicates\n",
    "df = df.drop_duplicates(subset=['job_title', 'job_description'])\n",
    "\n",
    "# 5. Reset index\n",
    "df = df.reset_index(drop=True)\n",
    "\n",
    "# Preview cleaned data\n",
    "print(df.head())\n",
    "print(\"\\nRemaining columns:\", df.columns.tolist())\n"
   ]
  },
  {
   "cell_type": "code",
   "execution_count": null,
   "metadata": {},
   "outputs": [],
   "source": []
  }
 ],
 "metadata": {
  "kernelspec": {
   "display_name": "base",
   "language": "python",
   "name": "python3"
  },
  "language_info": {
   "codemirror_mode": {
    "name": "ipython",
    "version": 3
   },
   "file_extension": ".py",
   "mimetype": "text/x-python",
   "name": "python",
   "nbconvert_exporter": "python",
   "pygments_lexer": "ipython3",
   "version": "3.11.4"
  }
 },
 "nbformat": 4,
 "nbformat_minor": 2
}
